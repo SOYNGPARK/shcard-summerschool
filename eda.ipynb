{
 "cells": [
  {
   "cell_type": "code",
   "execution_count": 26,
   "metadata": {},
   "outputs": [],
   "source": [
    "import pandas as pd\n",
    "import numpy as np\n",
    "import re\n",
    "import datetime\n",
    "import matplotlib.pyplot as plt"
   ]
  },
  {
   "cell_type": "markdown",
   "metadata": {},
   "source": [
    "## Load data "
   ]
  },
  {
   "cell_type": "markdown",
   "metadata": {},
   "source": [
    "* 고객정보"
   ]
  },
  {
   "cell_type": "code",
   "execution_count": 2,
   "metadata": {},
   "outputs": [],
   "source": [
    "customer = pd.read_table(r'C:\\Users\\soug9\\Desktop\\Shcard Summer School\\data\\01_고객정보.txt',\n",
    "                         sep=';',  engine='python')"
   ]
  },
  {
   "cell_type": "code",
   "execution_count": 3,
   "metadata": {},
   "outputs": [
    {
     "data": {
      "text/html": [
       "<div>\n",
       "<style scoped>\n",
       "    .dataframe tbody tr th:only-of-type {\n",
       "        vertical-align: middle;\n",
       "    }\n",
       "\n",
       "    .dataframe tbody tr th {\n",
       "        vertical-align: top;\n",
       "    }\n",
       "\n",
       "    .dataframe thead th {\n",
       "        text-align: right;\n",
       "    }\n",
       "</style>\n",
       "<table border=\"1\" class=\"dataframe\">\n",
       "  <thead>\n",
       "    <tr style=\"text-align: right;\">\n",
       "      <th></th>\n",
       "      <th>CLNN</th>\n",
       "      <th>SEX_CCD</th>\n",
       "      <th>HM_ZPN</th>\n",
       "    </tr>\n",
       "  </thead>\n",
       "  <tbody>\n",
       "    <tr>\n",
       "      <th>0</th>\n",
       "      <td>Z9379301951ST</td>\n",
       "      <td>F</td>\n",
       "      <td>5245</td>\n",
       "    </tr>\n",
       "    <tr>\n",
       "      <th>1</th>\n",
       "      <td>Z9733001951ST</td>\n",
       "      <td>F</td>\n",
       "      <td>14574</td>\n",
       "    </tr>\n",
       "    <tr>\n",
       "      <th>2</th>\n",
       "      <td>Z9863801951ST</td>\n",
       "      <td>F</td>\n",
       "      <td>14602</td>\n",
       "    </tr>\n",
       "    <tr>\n",
       "      <th>3</th>\n",
       "      <td>Z0277101961ST</td>\n",
       "      <td>M</td>\n",
       "      <td>14049</td>\n",
       "    </tr>\n",
       "    <tr>\n",
       "      <th>4</th>\n",
       "      <td>Z0335501961ST</td>\n",
       "      <td>M</td>\n",
       "      <td>35206</td>\n",
       "    </tr>\n",
       "  </tbody>\n",
       "</table>\n",
       "</div>"
      ],
      "text/plain": [
       "            CLNN SEX_CCD  HM_ZPN\n",
       "0  Z9379301951ST       F    5245\n",
       "1  Z9733001951ST       F   14574\n",
       "2  Z9863801951ST       F   14602\n",
       "3  Z0277101961ST       M   14049\n",
       "4  Z0335501961ST       M   35206"
      ]
     },
     "execution_count": 3,
     "metadata": {},
     "output_type": "execute_result"
    }
   ],
   "source": [
    "customer.head()"
   ]
  },
  {
   "cell_type": "markdown",
   "metadata": {},
   "source": [
    "* 승인정보"
   ]
  },
  {
   "cell_type": "code",
   "execution_count": 17,
   "metadata": {},
   "outputs": [],
   "source": [
    "transaction = pd.read_table(r'C:\\Users\\soug9\\Desktop\\Shcard Summer School\\data\\02_승인정보.txt',\n",
    "                         sep=';',  engine='python')"
   ]
  },
  {
   "cell_type": "code",
   "execution_count": 5,
   "metadata": {},
   "outputs": [
    {
     "data": {
      "text/html": [
       "<div>\n",
       "<style scoped>\n",
       "    .dataframe tbody tr th:only-of-type {\n",
       "        vertical-align: middle;\n",
       "    }\n",
       "\n",
       "    .dataframe tbody tr th {\n",
       "        vertical-align: top;\n",
       "    }\n",
       "\n",
       "    .dataframe thead th {\n",
       "        text-align: right;\n",
       "    }\n",
       "</style>\n",
       "<table border=\"1\" class=\"dataframe\">\n",
       "  <thead>\n",
       "    <tr style=\"text-align: right;\">\n",
       "      <th></th>\n",
       "      <th>CLNN</th>\n",
       "      <th>APV_TS_D</th>\n",
       "      <th>TIME</th>\n",
       "      <th>MCT_N</th>\n",
       "      <th>USE_AMT</th>\n",
       "    </tr>\n",
       "  </thead>\n",
       "  <tbody>\n",
       "    <tr>\n",
       "      <th>0</th>\n",
       "      <td>Z0013222301ST</td>\n",
       "      <td>20170925</td>\n",
       "      <td>8</td>\n",
       "      <td>4016501036KM</td>\n",
       "      <td>C</td>\n",
       "    </tr>\n",
       "    <tr>\n",
       "      <th>1</th>\n",
       "      <td>Z0013222301ST</td>\n",
       "      <td>20171020</td>\n",
       "      <td>18</td>\n",
       "      <td>1524901023KM</td>\n",
       "      <td>F</td>\n",
       "    </tr>\n",
       "    <tr>\n",
       "      <th>2</th>\n",
       "      <td>Z0013257851ST</td>\n",
       "      <td>20171020</td>\n",
       "      <td>15</td>\n",
       "      <td>5478500495KM</td>\n",
       "      <td>F</td>\n",
       "    </tr>\n",
       "    <tr>\n",
       "      <th>3</th>\n",
       "      <td>Z0014237071ST</td>\n",
       "      <td>20170814</td>\n",
       "      <td>14</td>\n",
       "      <td>9815800667KM</td>\n",
       "      <td>C</td>\n",
       "    </tr>\n",
       "    <tr>\n",
       "      <th>4</th>\n",
       "      <td>Z0014237071ST</td>\n",
       "      <td>20170814</td>\n",
       "      <td>7</td>\n",
       "      <td>3310500677KM</td>\n",
       "      <td>J</td>\n",
       "    </tr>\n",
       "  </tbody>\n",
       "</table>\n",
       "</div>"
      ],
      "text/plain": [
       "            CLNN  APV_TS_D  TIME         MCT_N USE_AMT\n",
       "0  Z0013222301ST  20170925     8  4016501036KM       C\n",
       "1  Z0013222301ST  20171020    18  1524901023KM       F\n",
       "2  Z0013257851ST  20171020    15  5478500495KM       F\n",
       "3  Z0014237071ST  20170814    14  9815800667KM       C\n",
       "4  Z0014237071ST  20170814     7  3310500677KM       J"
      ]
     },
     "execution_count": 5,
     "metadata": {},
     "output_type": "execute_result"
    }
   ],
   "source": [
    "transaction.head()"
   ]
  },
  {
   "cell_type": "markdown",
   "metadata": {},
   "source": [
    "* 가맹점정보"
   ]
  },
  {
   "cell_type": "code",
   "execution_count": 7,
   "metadata": {},
   "outputs": [],
   "source": [
    "#store = pd.read_table(r'C:\\Users\\soug9\\Desktop\\Shcard Summer School\\data\\03_가맹점정보.txt', sep=';',  engine='python')\n",
    "\n",
    "f=open(r'C:\\Users\\soug9\\Desktop\\Shcard Summer School\\data\\03_가맹점정보.txt','r')\n",
    "\n",
    "trans=[]\n",
    "for line in f:\n",
    "    trans.append(line.strip())\n",
    "\n",
    "for i in range(len(trans)) :\n",
    "    trans[i] = trans[i].split(';')\n",
    "\n",
    "store = pd.DataFrame.from_records(trans[1:])    \n",
    "store.columns = trans[0]"
   ]
  },
  {
   "cell_type": "code",
   "execution_count": 8,
   "metadata": {},
   "outputs": [
    {
     "data": {
      "text/html": [
       "<div>\n",
       "<style scoped>\n",
       "    .dataframe tbody tr th:only-of-type {\n",
       "        vertical-align: middle;\n",
       "    }\n",
       "\n",
       "    .dataframe tbody tr th {\n",
       "        vertical-align: top;\n",
       "    }\n",
       "\n",
       "    .dataframe thead th {\n",
       "        text-align: right;\n",
       "    }\n",
       "</style>\n",
       "<table border=\"1\" class=\"dataframe\">\n",
       "  <thead>\n",
       "    <tr style=\"text-align: right;\">\n",
       "      <th></th>\n",
       "      <th>MCT_N</th>\n",
       "      <th>MCT_NM</th>\n",
       "      <th>UPJONG_GB_1</th>\n",
       "      <th>MCT_ZPN</th>\n",
       "    </tr>\n",
       "  </thead>\n",
       "  <tbody>\n",
       "    <tr>\n",
       "      <th>0</th>\n",
       "      <td>8600701034KM</td>\n",
       "      <td>엠와</td>\n",
       "      <td>결혼</td>\n",
       "      <td>04025</td>\n",
       "    </tr>\n",
       "    <tr>\n",
       "      <th>1</th>\n",
       "      <td>4238501060KM</td>\n",
       "      <td>함께</td>\n",
       "      <td>결혼</td>\n",
       "      <td>07025</td>\n",
       "    </tr>\n",
       "    <tr>\n",
       "      <th>2</th>\n",
       "      <td>5366100472KM</td>\n",
       "      <td>미래</td>\n",
       "      <td>결혼</td>\n",
       "      <td>24377</td>\n",
       "    </tr>\n",
       "    <tr>\n",
       "      <th>3</th>\n",
       "      <td>4578701049KM</td>\n",
       "      <td>힐링</td>\n",
       "      <td>결혼</td>\n",
       "      <td>48953</td>\n",
       "    </tr>\n",
       "    <tr>\n",
       "      <th>4</th>\n",
       "      <td>3937000873KM</td>\n",
       "      <td>홀인</td>\n",
       "      <td>골프</td>\n",
       "      <td>10120</td>\n",
       "    </tr>\n",
       "  </tbody>\n",
       "</table>\n",
       "</div>"
      ],
      "text/plain": [
       "          MCT_N MCT_NM UPJONG_GB_1 MCT_ZPN\n",
       "0  8600701034KM     엠와          결혼   04025\n",
       "1  4238501060KM     함께          결혼   07025\n",
       "2  5366100472KM     미래          결혼   24377\n",
       "3  4578701049KM     힐링          결혼   48953\n",
       "4  3937000873KM     홀인          골프   10120"
      ]
     },
     "execution_count": 8,
     "metadata": {},
     "output_type": "execute_result"
    }
   ],
   "source": [
    "store.head()"
   ]
  },
  {
   "cell_type": "markdown",
   "metadata": {},
   "source": [
    "* 온라인유료콘텐츠"
   ]
  },
  {
   "cell_type": "code",
   "execution_count": 10,
   "metadata": {},
   "outputs": [],
   "source": [
    "online = pd.read_table(r'C:\\Users\\soug9\\Desktop\\Shcard Summer School\\data\\04_온라인유료콘텐츠.txt',\n",
    "                         sep=';',  engine='python')"
   ]
  },
  {
   "cell_type": "code",
   "execution_count": 11,
   "metadata": {},
   "outputs": [
    {
     "data": {
      "text/html": [
       "<div>\n",
       "<style scoped>\n",
       "    .dataframe tbody tr th:only-of-type {\n",
       "        vertical-align: middle;\n",
       "    }\n",
       "\n",
       "    .dataframe tbody tr th {\n",
       "        vertical-align: top;\n",
       "    }\n",
       "\n",
       "    .dataframe thead th {\n",
       "        text-align: right;\n",
       "    }\n",
       "</style>\n",
       "<table border=\"1\" class=\"dataframe\">\n",
       "  <thead>\n",
       "    <tr style=\"text-align: right;\">\n",
       "      <th></th>\n",
       "      <th>CLNN</th>\n",
       "      <th>APV_TS_D</th>\n",
       "      <th>TIME</th>\n",
       "      <th>MCT_N</th>\n",
       "      <th>USE_AMT</th>\n",
       "    </tr>\n",
       "  </thead>\n",
       "  <tbody>\n",
       "    <tr>\n",
       "      <th>0</th>\n",
       "      <td>Z6714298021ST</td>\n",
       "      <td>20171007</td>\n",
       "      <td>23</td>\n",
       "      <td>5109500009KM</td>\n",
       "      <td>C</td>\n",
       "    </tr>\n",
       "    <tr>\n",
       "      <th>1</th>\n",
       "      <td>Z0753229081ST</td>\n",
       "      <td>20180703</td>\n",
       "      <td>17</td>\n",
       "      <td>5109500009KM</td>\n",
       "      <td>E</td>\n",
       "    </tr>\n",
       "    <tr>\n",
       "      <th>2</th>\n",
       "      <td>Z3514236191ST</td>\n",
       "      <td>20180212</td>\n",
       "      <td>15</td>\n",
       "      <td>5109500009KM</td>\n",
       "      <td>F</td>\n",
       "    </tr>\n",
       "    <tr>\n",
       "      <th>3</th>\n",
       "      <td>Z3514236191ST</td>\n",
       "      <td>20180211</td>\n",
       "      <td>22</td>\n",
       "      <td>5109500009KM</td>\n",
       "      <td>E</td>\n",
       "    </tr>\n",
       "    <tr>\n",
       "      <th>4</th>\n",
       "      <td>Z2263249201ST</td>\n",
       "      <td>20171028</td>\n",
       "      <td>12</td>\n",
       "      <td>5109500009KM</td>\n",
       "      <td>A</td>\n",
       "    </tr>\n",
       "  </tbody>\n",
       "</table>\n",
       "</div>"
      ],
      "text/plain": [
       "            CLNN  APV_TS_D  TIME         MCT_N USE_AMT\n",
       "0  Z6714298021ST  20171007    23  5109500009KM       C\n",
       "1  Z0753229081ST  20180703    17  5109500009KM       E\n",
       "2  Z3514236191ST  20180212    15  5109500009KM       F\n",
       "3  Z3514236191ST  20180211    22  5109500009KM       E\n",
       "4  Z2263249201ST  20171028    12  5109500009KM       A"
      ]
     },
     "execution_count": 11,
     "metadata": {},
     "output_type": "execute_result"
    }
   ],
   "source": [
    "online.head()"
   ]
  },
  {
   "cell_type": "markdown",
   "metadata": {},
   "source": [
    "* 이용금액 코드표"
   ]
  },
  {
   "cell_type": "code",
   "execution_count": 12,
   "metadata": {},
   "outputs": [],
   "source": [
    "use_amt = pd.read_table(r'C:\\Users\\soug9\\Desktop\\Shcard Summer School\\data\\이용금액 코드표.txt',\n",
    "                         sep='\\t',  engine='python')\n",
    "\n",
    "# deal with use_amt\n",
    "use_amt['AMT1'] = use_amt['AMT']\n",
    "use_amt['AMT1'] = use_amt['AMT1'].apply(lambda x : re.sub('천원이하','000',x))\n",
    "use_amt['AMT1'] = use_amt['AMT1'].apply(lambda x : re.sub('만원이하','0000',x))\n",
    "use_amt['AMT1'] = use_amt['AMT1'].apply(lambda x : re.sub('만원초과','0001',x))\n",
    "use_amt['AMT1'] = use_amt['AMT1'].astype('int')"
   ]
  },
  {
   "cell_type": "code",
   "execution_count": 13,
   "metadata": {},
   "outputs": [
    {
     "data": {
      "text/html": [
       "<div>\n",
       "<style scoped>\n",
       "    .dataframe tbody tr th:only-of-type {\n",
       "        vertical-align: middle;\n",
       "    }\n",
       "\n",
       "    .dataframe tbody tr th {\n",
       "        vertical-align: top;\n",
       "    }\n",
       "\n",
       "    .dataframe thead th {\n",
       "        text-align: right;\n",
       "    }\n",
       "</style>\n",
       "<table border=\"1\" class=\"dataframe\">\n",
       "  <thead>\n",
       "    <tr style=\"text-align: right;\">\n",
       "      <th></th>\n",
       "      <th>USE_AMT</th>\n",
       "      <th>AMT</th>\n",
       "      <th>AMT1</th>\n",
       "    </tr>\n",
       "  </thead>\n",
       "  <tbody>\n",
       "    <tr>\n",
       "      <th>0</th>\n",
       "      <td>A</td>\n",
       "      <td>5천원이하</td>\n",
       "      <td>5000</td>\n",
       "    </tr>\n",
       "    <tr>\n",
       "      <th>1</th>\n",
       "      <td>B</td>\n",
       "      <td>10천원이하</td>\n",
       "      <td>10000</td>\n",
       "    </tr>\n",
       "    <tr>\n",
       "      <th>2</th>\n",
       "      <td>C</td>\n",
       "      <td>15천원이하</td>\n",
       "      <td>15000</td>\n",
       "    </tr>\n",
       "    <tr>\n",
       "      <th>3</th>\n",
       "      <td>D</td>\n",
       "      <td>20천원이하</td>\n",
       "      <td>20000</td>\n",
       "    </tr>\n",
       "    <tr>\n",
       "      <th>4</th>\n",
       "      <td>E</td>\n",
       "      <td>30천원이하</td>\n",
       "      <td>30000</td>\n",
       "    </tr>\n",
       "  </tbody>\n",
       "</table>\n",
       "</div>"
      ],
      "text/plain": [
       "  USE_AMT     AMT   AMT1\n",
       "0       A   5천원이하   5000\n",
       "1       B  10천원이하  10000\n",
       "2       C  15천원이하  15000\n",
       "3       D  20천원이하  20000\n",
       "4       E  30천원이하  30000"
      ]
     },
     "execution_count": 13,
     "metadata": {},
     "output_type": "execute_result"
    }
   ],
   "source": [
    "use_amt.head()"
   ]
  },
  {
   "cell_type": "markdown",
   "metadata": {},
   "source": [
    "## Merge data"
   ]
  },
  {
   "cell_type": "markdown",
   "metadata": {},
   "source": [
    "* use_amt + online"
   ]
  },
  {
   "cell_type": "code",
   "execution_count": 14,
   "metadata": {},
   "outputs": [],
   "source": [
    "online = pd.merge(online, use_amt, on='USE_AMT')"
   ]
  },
  {
   "cell_type": "code",
   "execution_count": 15,
   "metadata": {},
   "outputs": [
    {
     "data": {
      "text/html": [
       "<div>\n",
       "<style scoped>\n",
       "    .dataframe tbody tr th:only-of-type {\n",
       "        vertical-align: middle;\n",
       "    }\n",
       "\n",
       "    .dataframe tbody tr th {\n",
       "        vertical-align: top;\n",
       "    }\n",
       "\n",
       "    .dataframe thead th {\n",
       "        text-align: right;\n",
       "    }\n",
       "</style>\n",
       "<table border=\"1\" class=\"dataframe\">\n",
       "  <thead>\n",
       "    <tr style=\"text-align: right;\">\n",
       "      <th></th>\n",
       "      <th>CLNN</th>\n",
       "      <th>APV_TS_D</th>\n",
       "      <th>TIME</th>\n",
       "      <th>MCT_N</th>\n",
       "      <th>USE_AMT</th>\n",
       "      <th>AMT</th>\n",
       "      <th>AMT1</th>\n",
       "    </tr>\n",
       "  </thead>\n",
       "  <tbody>\n",
       "    <tr>\n",
       "      <th>0</th>\n",
       "      <td>Z6714298021ST</td>\n",
       "      <td>20171007</td>\n",
       "      <td>23</td>\n",
       "      <td>5109500009KM</td>\n",
       "      <td>C</td>\n",
       "      <td>15천원이하</td>\n",
       "      <td>15000</td>\n",
       "    </tr>\n",
       "    <tr>\n",
       "      <th>1</th>\n",
       "      <td>Z3263216341ST</td>\n",
       "      <td>20180215</td>\n",
       "      <td>10</td>\n",
       "      <td>5109500009KM</td>\n",
       "      <td>C</td>\n",
       "      <td>15천원이하</td>\n",
       "      <td>15000</td>\n",
       "    </tr>\n",
       "    <tr>\n",
       "      <th>2</th>\n",
       "      <td>Z1824284811ST</td>\n",
       "      <td>20180426</td>\n",
       "      <td>16</td>\n",
       "      <td>5109500009KM</td>\n",
       "      <td>C</td>\n",
       "      <td>15천원이하</td>\n",
       "      <td>15000</td>\n",
       "    </tr>\n",
       "    <tr>\n",
       "      <th>3</th>\n",
       "      <td>Z3263216341ST</td>\n",
       "      <td>20180507</td>\n",
       "      <td>17</td>\n",
       "      <td>5109500009KM</td>\n",
       "      <td>C</td>\n",
       "      <td>15천원이하</td>\n",
       "      <td>15000</td>\n",
       "    </tr>\n",
       "    <tr>\n",
       "      <th>4</th>\n",
       "      <td>Z6114264201ST</td>\n",
       "      <td>20180108</td>\n",
       "      <td>23</td>\n",
       "      <td>5109500009KM</td>\n",
       "      <td>C</td>\n",
       "      <td>15천원이하</td>\n",
       "      <td>15000</td>\n",
       "    </tr>\n",
       "  </tbody>\n",
       "</table>\n",
       "</div>"
      ],
      "text/plain": [
       "            CLNN  APV_TS_D  TIME         MCT_N USE_AMT     AMT   AMT1\n",
       "0  Z6714298021ST  20171007    23  5109500009KM       C  15천원이하  15000\n",
       "1  Z3263216341ST  20180215    10  5109500009KM       C  15천원이하  15000\n",
       "2  Z1824284811ST  20180426    16  5109500009KM       C  15천원이하  15000\n",
       "3  Z3263216341ST  20180507    17  5109500009KM       C  15천원이하  15000\n",
       "4  Z6114264201ST  20180108    23  5109500009KM       C  15천원이하  15000"
      ]
     },
     "execution_count": 15,
     "metadata": {},
     "output_type": "execute_result"
    }
   ],
   "source": [
    "online.head()"
   ]
  },
  {
   "cell_type": "markdown",
   "metadata": {},
   "source": [
    "* use_amt + transaction"
   ]
  },
  {
   "cell_type": "code",
   "execution_count": 18,
   "metadata": {},
   "outputs": [],
   "source": [
    "transaction = pd.merge(transaction, use_amt, on='USE_AMT')"
   ]
  },
  {
   "cell_type": "code",
   "execution_count": 19,
   "metadata": {},
   "outputs": [
    {
     "data": {
      "text/html": [
       "<div>\n",
       "<style scoped>\n",
       "    .dataframe tbody tr th:only-of-type {\n",
       "        vertical-align: middle;\n",
       "    }\n",
       "\n",
       "    .dataframe tbody tr th {\n",
       "        vertical-align: top;\n",
       "    }\n",
       "\n",
       "    .dataframe thead th {\n",
       "        text-align: right;\n",
       "    }\n",
       "</style>\n",
       "<table border=\"1\" class=\"dataframe\">\n",
       "  <thead>\n",
       "    <tr style=\"text-align: right;\">\n",
       "      <th></th>\n",
       "      <th>CLNN</th>\n",
       "      <th>APV_TS_D</th>\n",
       "      <th>TIME</th>\n",
       "      <th>MCT_N</th>\n",
       "      <th>USE_AMT</th>\n",
       "      <th>AMT</th>\n",
       "      <th>AMT1</th>\n",
       "    </tr>\n",
       "  </thead>\n",
       "  <tbody>\n",
       "    <tr>\n",
       "      <th>0</th>\n",
       "      <td>Z0013222301ST</td>\n",
       "      <td>20170925</td>\n",
       "      <td>8</td>\n",
       "      <td>4016501036KM</td>\n",
       "      <td>C</td>\n",
       "      <td>15천원이하</td>\n",
       "      <td>15000</td>\n",
       "    </tr>\n",
       "    <tr>\n",
       "      <th>1</th>\n",
       "      <td>Z0014237071ST</td>\n",
       "      <td>20170814</td>\n",
       "      <td>14</td>\n",
       "      <td>9815800667KM</td>\n",
       "      <td>C</td>\n",
       "      <td>15천원이하</td>\n",
       "      <td>15000</td>\n",
       "    </tr>\n",
       "    <tr>\n",
       "      <th>2</th>\n",
       "      <td>Z0024224741ST</td>\n",
       "      <td>20180324</td>\n",
       "      <td>15</td>\n",
       "      <td>9988400799KM</td>\n",
       "      <td>C</td>\n",
       "      <td>15천원이하</td>\n",
       "      <td>15000</td>\n",
       "    </tr>\n",
       "    <tr>\n",
       "      <th>3</th>\n",
       "      <td>Z0024248271ST</td>\n",
       "      <td>20180318</td>\n",
       "      <td>15</td>\n",
       "      <td>0589500503KM</td>\n",
       "      <td>C</td>\n",
       "      <td>15천원이하</td>\n",
       "      <td>15000</td>\n",
       "    </tr>\n",
       "    <tr>\n",
       "      <th>4</th>\n",
       "      <td>Z0043211871ST</td>\n",
       "      <td>20180122</td>\n",
       "      <td>11</td>\n",
       "      <td>3056000014KM</td>\n",
       "      <td>C</td>\n",
       "      <td>15천원이하</td>\n",
       "      <td>15000</td>\n",
       "    </tr>\n",
       "  </tbody>\n",
       "</table>\n",
       "</div>"
      ],
      "text/plain": [
       "            CLNN  APV_TS_D  TIME         MCT_N USE_AMT     AMT   AMT1\n",
       "0  Z0013222301ST  20170925     8  4016501036KM       C  15천원이하  15000\n",
       "1  Z0014237071ST  20170814    14  9815800667KM       C  15천원이하  15000\n",
       "2  Z0024224741ST  20180324    15  9988400799KM       C  15천원이하  15000\n",
       "3  Z0024248271ST  20180318    15  0589500503KM       C  15천원이하  15000\n",
       "4  Z0043211871ST  20180122    11  3056000014KM       C  15천원이하  15000"
      ]
     },
     "execution_count": 19,
     "metadata": {},
     "output_type": "execute_result"
    }
   ],
   "source": [
    "transaction.head()"
   ]
  },
  {
   "cell_type": "markdown",
   "metadata": {},
   "source": [
    "* online + customer + store"
   ]
  },
  {
   "cell_type": "code",
   "execution_count": 20,
   "metadata": {},
   "outputs": [],
   "source": [
    "online_new = pd.merge(online[['CLNN', 'APV_TS_D', 'TIME', 'MCT_N', 'AMT1']], customer, how='left')\n",
    "online_new = pd.merge(online_new, store, how='left')"
   ]
  },
  {
   "cell_type": "code",
   "execution_count": 21,
   "metadata": {},
   "outputs": [
    {
     "data": {
      "text/html": [
       "<div>\n",
       "<style scoped>\n",
       "    .dataframe tbody tr th:only-of-type {\n",
       "        vertical-align: middle;\n",
       "    }\n",
       "\n",
       "    .dataframe tbody tr th {\n",
       "        vertical-align: top;\n",
       "    }\n",
       "\n",
       "    .dataframe thead th {\n",
       "        text-align: right;\n",
       "    }\n",
       "</style>\n",
       "<table border=\"1\" class=\"dataframe\">\n",
       "  <thead>\n",
       "    <tr style=\"text-align: right;\">\n",
       "      <th></th>\n",
       "      <th>CLNN</th>\n",
       "      <th>APV_TS_D</th>\n",
       "      <th>TIME</th>\n",
       "      <th>MCT_N</th>\n",
       "      <th>AMT1</th>\n",
       "      <th>SEX_CCD</th>\n",
       "      <th>HM_ZPN</th>\n",
       "      <th>MCT_NM</th>\n",
       "      <th>UPJONG_GB_1</th>\n",
       "      <th>MCT_ZPN</th>\n",
       "    </tr>\n",
       "  </thead>\n",
       "  <tbody>\n",
       "    <tr>\n",
       "      <th>0</th>\n",
       "      <td>Z6714298021ST</td>\n",
       "      <td>20171007</td>\n",
       "      <td>23</td>\n",
       "      <td>5109500009KM</td>\n",
       "      <td>15000</td>\n",
       "      <td>F</td>\n",
       "      <td>14264</td>\n",
       "      <td>인터</td>\n",
       "      <td>홈/인터넷쇼핑</td>\n",
       "      <td>04389</td>\n",
       "    </tr>\n",
       "    <tr>\n",
       "      <th>1</th>\n",
       "      <td>Z3263216341ST</td>\n",
       "      <td>20180215</td>\n",
       "      <td>10</td>\n",
       "      <td>5109500009KM</td>\n",
       "      <td>15000</td>\n",
       "      <td>F</td>\n",
       "      <td>14218</td>\n",
       "      <td>인터</td>\n",
       "      <td>홈/인터넷쇼핑</td>\n",
       "      <td>04389</td>\n",
       "    </tr>\n",
       "    <tr>\n",
       "      <th>2</th>\n",
       "      <td>Z1824284811ST</td>\n",
       "      <td>20180426</td>\n",
       "      <td>16</td>\n",
       "      <td>5109500009KM</td>\n",
       "      <td>15000</td>\n",
       "      <td>M</td>\n",
       "      <td>39290</td>\n",
       "      <td>인터</td>\n",
       "      <td>홈/인터넷쇼핑</td>\n",
       "      <td>04389</td>\n",
       "    </tr>\n",
       "    <tr>\n",
       "      <th>3</th>\n",
       "      <td>Z3263216341ST</td>\n",
       "      <td>20180507</td>\n",
       "      <td>17</td>\n",
       "      <td>5109500009KM</td>\n",
       "      <td>15000</td>\n",
       "      <td>F</td>\n",
       "      <td>14218</td>\n",
       "      <td>인터</td>\n",
       "      <td>홈/인터넷쇼핑</td>\n",
       "      <td>04389</td>\n",
       "    </tr>\n",
       "    <tr>\n",
       "      <th>4</th>\n",
       "      <td>Z6114264201ST</td>\n",
       "      <td>20180108</td>\n",
       "      <td>23</td>\n",
       "      <td>5109500009KM</td>\n",
       "      <td>15000</td>\n",
       "      <td>F</td>\n",
       "      <td>14077</td>\n",
       "      <td>인터</td>\n",
       "      <td>홈/인터넷쇼핑</td>\n",
       "      <td>04389</td>\n",
       "    </tr>\n",
       "  </tbody>\n",
       "</table>\n",
       "</div>"
      ],
      "text/plain": [
       "            CLNN  APV_TS_D  TIME         MCT_N   AMT1 SEX_CCD  HM_ZPN MCT_NM  \\\n",
       "0  Z6714298021ST  20171007    23  5109500009KM  15000       F   14264     인터   \n",
       "1  Z3263216341ST  20180215    10  5109500009KM  15000       F   14218     인터   \n",
       "2  Z1824284811ST  20180426    16  5109500009KM  15000       M   39290     인터   \n",
       "3  Z3263216341ST  20180507    17  5109500009KM  15000       F   14218     인터   \n",
       "4  Z6114264201ST  20180108    23  5109500009KM  15000       F   14077     인터   \n",
       "\n",
       "  UPJONG_GB_1 MCT_ZPN  \n",
       "0     홈/인터넷쇼핑   04389  \n",
       "1     홈/인터넷쇼핑   04389  \n",
       "2     홈/인터넷쇼핑   04389  \n",
       "3     홈/인터넷쇼핑   04389  \n",
       "4     홈/인터넷쇼핑   04389  "
      ]
     },
     "execution_count": 21,
     "metadata": {},
     "output_type": "execute_result"
    }
   ],
   "source": [
    "online_new.head()"
   ]
  },
  {
   "cell_type": "markdown",
   "metadata": {},
   "source": [
    "## Preprocessing "
   ]
  },
  {
   "cell_type": "markdown",
   "metadata": {},
   "source": [
    "* APV_TS_D + TIME = create new feature named 'DATETIME' whose type is datetime"
   ]
  },
  {
   "cell_type": "code",
   "execution_count": 22,
   "metadata": {},
   "outputs": [
    {
     "data": {
      "text/plain": [
       "20170801     8\n",
       "20170802    11\n",
       "20170803     8\n",
       "20170804    10\n",
       "20170805     5\n",
       "20170806     8\n",
       "20170807     8\n",
       "20170808     6\n",
       "20170809     7\n",
       "20170810     9\n",
       "20170811     9\n",
       "20170812     6\n",
       "20170813     5\n",
       "20170814     8\n",
       "20170815     8\n",
       "20170816    13\n",
       "20170817     7\n",
       "20170818    11\n",
       "20170819     8\n",
       "20170820     5\n",
       "20170821    10\n",
       "20170822     6\n",
       "20170823     2\n",
       "20170824     8\n",
       "20170825     5\n",
       "20170826     4\n",
       "20170827     5\n",
       "20170828     6\n",
       "20170829    10\n",
       "20170830    14\n",
       "            ..\n",
       "20180702    12\n",
       "20180703    13\n",
       "20180704    13\n",
       "20180705     8\n",
       "20180706     9\n",
       "20180707     9\n",
       "20180708     7\n",
       "20180709     7\n",
       "20180710    13\n",
       "20180711     9\n",
       "20180712     6\n",
       "20180713    10\n",
       "20180714    11\n",
       "20180715     4\n",
       "20180716     6\n",
       "20180717    10\n",
       "20180718     7\n",
       "20180719     7\n",
       "20180720     7\n",
       "20180721    10\n",
       "20180722     7\n",
       "20180723    10\n",
       "20180724     6\n",
       "20180725     6\n",
       "20180726    10\n",
       "20180727    11\n",
       "20180728     4\n",
       "20180729     5\n",
       "20180730     7\n",
       "20180731     6\n",
       "Name: APV_TS_D, Length: 365, dtype: int64"
      ]
     },
     "execution_count": 22,
     "metadata": {},
     "output_type": "execute_result"
    }
   ],
   "source": [
    "online_new['APV_TS_D'].value_counts().sort_index()"
   ]
  },
  {
   "cell_type": "code",
   "execution_count": 23,
   "metadata": {},
   "outputs": [
    {
     "data": {
      "text/plain": [
       "17    540\n",
       "9     421\n",
       "18    352\n",
       "10    214\n",
       "8     140\n",
       "14    115\n",
       "11    108\n",
       "1     103\n",
       "16    103\n",
       "15     94\n",
       "12     94\n",
       "0      88\n",
       "13     87\n",
       "2      84\n",
       "20     74\n",
       "19     73\n",
       "22     70\n",
       "23     64\n",
       "21     47\n",
       "3      46\n",
       "6      21\n",
       "4      20\n",
       "5      16\n",
       "7      16\n",
       "Name: TIME, dtype: int64"
      ]
     },
     "execution_count": 23,
     "metadata": {},
     "output_type": "execute_result"
    }
   ],
   "source": [
    "online_new['TIME'].value_counts()"
   ]
  },
  {
   "cell_type": "code",
   "execution_count": 24,
   "metadata": {},
   "outputs": [],
   "source": [
    "online_new['APV_TS_D'] = online_new['APV_TS_D'].astype(str)\n",
    "\n",
    "online_new['DATETIME'] = online_new[['APV_TS_D', \n",
    "          'TIME']].apply(lambda x : datetime.datetime(int(x.values[0][:4]),\n",
    "          int(x.values[0][4:6]), int(x.values[0][6:8]),\n",
    "          x.values[1]), axis=1)"
   ]
  },
  {
   "cell_type": "code",
   "execution_count": 25,
   "metadata": {},
   "outputs": [
    {
     "data": {
      "text/html": [
       "<div>\n",
       "<style scoped>\n",
       "    .dataframe tbody tr th:only-of-type {\n",
       "        vertical-align: middle;\n",
       "    }\n",
       "\n",
       "    .dataframe tbody tr th {\n",
       "        vertical-align: top;\n",
       "    }\n",
       "\n",
       "    .dataframe thead th {\n",
       "        text-align: right;\n",
       "    }\n",
       "</style>\n",
       "<table border=\"1\" class=\"dataframe\">\n",
       "  <thead>\n",
       "    <tr style=\"text-align: right;\">\n",
       "      <th></th>\n",
       "      <th>CLNN</th>\n",
       "      <th>APV_TS_D</th>\n",
       "      <th>TIME</th>\n",
       "      <th>MCT_N</th>\n",
       "      <th>AMT1</th>\n",
       "      <th>SEX_CCD</th>\n",
       "      <th>HM_ZPN</th>\n",
       "      <th>MCT_NM</th>\n",
       "      <th>UPJONG_GB_1</th>\n",
       "      <th>MCT_ZPN</th>\n",
       "      <th>DATETIME</th>\n",
       "    </tr>\n",
       "  </thead>\n",
       "  <tbody>\n",
       "    <tr>\n",
       "      <th>0</th>\n",
       "      <td>Z6714298021ST</td>\n",
       "      <td>20171007</td>\n",
       "      <td>23</td>\n",
       "      <td>5109500009KM</td>\n",
       "      <td>15000</td>\n",
       "      <td>F</td>\n",
       "      <td>14264</td>\n",
       "      <td>인터</td>\n",
       "      <td>홈/인터넷쇼핑</td>\n",
       "      <td>04389</td>\n",
       "      <td>2017-10-07 23:00:00</td>\n",
       "    </tr>\n",
       "    <tr>\n",
       "      <th>1</th>\n",
       "      <td>Z3263216341ST</td>\n",
       "      <td>20180215</td>\n",
       "      <td>10</td>\n",
       "      <td>5109500009KM</td>\n",
       "      <td>15000</td>\n",
       "      <td>F</td>\n",
       "      <td>14218</td>\n",
       "      <td>인터</td>\n",
       "      <td>홈/인터넷쇼핑</td>\n",
       "      <td>04389</td>\n",
       "      <td>2018-02-15 10:00:00</td>\n",
       "    </tr>\n",
       "    <tr>\n",
       "      <th>2</th>\n",
       "      <td>Z1824284811ST</td>\n",
       "      <td>20180426</td>\n",
       "      <td>16</td>\n",
       "      <td>5109500009KM</td>\n",
       "      <td>15000</td>\n",
       "      <td>M</td>\n",
       "      <td>39290</td>\n",
       "      <td>인터</td>\n",
       "      <td>홈/인터넷쇼핑</td>\n",
       "      <td>04389</td>\n",
       "      <td>2018-04-26 16:00:00</td>\n",
       "    </tr>\n",
       "    <tr>\n",
       "      <th>3</th>\n",
       "      <td>Z3263216341ST</td>\n",
       "      <td>20180507</td>\n",
       "      <td>17</td>\n",
       "      <td>5109500009KM</td>\n",
       "      <td>15000</td>\n",
       "      <td>F</td>\n",
       "      <td>14218</td>\n",
       "      <td>인터</td>\n",
       "      <td>홈/인터넷쇼핑</td>\n",
       "      <td>04389</td>\n",
       "      <td>2018-05-07 17:00:00</td>\n",
       "    </tr>\n",
       "    <tr>\n",
       "      <th>4</th>\n",
       "      <td>Z6114264201ST</td>\n",
       "      <td>20180108</td>\n",
       "      <td>23</td>\n",
       "      <td>5109500009KM</td>\n",
       "      <td>15000</td>\n",
       "      <td>F</td>\n",
       "      <td>14077</td>\n",
       "      <td>인터</td>\n",
       "      <td>홈/인터넷쇼핑</td>\n",
       "      <td>04389</td>\n",
       "      <td>2018-01-08 23:00:00</td>\n",
       "    </tr>\n",
       "  </tbody>\n",
       "</table>\n",
       "</div>"
      ],
      "text/plain": [
       "            CLNN  APV_TS_D  TIME         MCT_N   AMT1 SEX_CCD  HM_ZPN MCT_NM  \\\n",
       "0  Z6714298021ST  20171007    23  5109500009KM  15000       F   14264     인터   \n",
       "1  Z3263216341ST  20180215    10  5109500009KM  15000       F   14218     인터   \n",
       "2  Z1824284811ST  20180426    16  5109500009KM  15000       M   39290     인터   \n",
       "3  Z3263216341ST  20180507    17  5109500009KM  15000       F   14218     인터   \n",
       "4  Z6114264201ST  20180108    23  5109500009KM  15000       F   14077     인터   \n",
       "\n",
       "  UPJONG_GB_1 MCT_ZPN            DATETIME  \n",
       "0     홈/인터넷쇼핑   04389 2017-10-07 23:00:00  \n",
       "1     홈/인터넷쇼핑   04389 2018-02-15 10:00:00  \n",
       "2     홈/인터넷쇼핑   04389 2018-04-26 16:00:00  \n",
       "3     홈/인터넷쇼핑   04389 2018-05-07 17:00:00  \n",
       "4     홈/인터넷쇼핑   04389 2018-01-08 23:00:00  "
      ]
     },
     "execution_count": 25,
     "metadata": {},
     "output_type": "execute_result"
    }
   ],
   "source": [
    "online_new.head()"
   ]
  },
  {
   "cell_type": "markdown",
   "metadata": {},
   "source": [
    "## EDA "
   ]
  },
  {
   "cell_type": "markdown",
   "metadata": {},
   "source": [
    "* DATETIME"
   ]
  },
  {
   "cell_type": "code",
   "execution_count": 27,
   "metadata": {},
   "outputs": [],
   "source": [
    "plt.style.use('ggplot')"
   ]
  },
  {
   "cell_type": "code",
   "execution_count": 29,
   "metadata": {
    "scrolled": true
   },
   "outputs": [
    {
     "data": {
      "text/plain": [
       "<matplotlib.axes._subplots.AxesSubplot at 0x2d6d32d3400>"
      ]
     },
     "execution_count": 29,
     "metadata": {},
     "output_type": "execute_result"
    },
    {
     "data": {
      "image/png": "[encoded data removed]",
      "text/plain": [
       "<Figure size 432x288 with 1 Axes>"
      ]
     },
     "metadata": {},
     "output_type": "display_data"
    }
   ],
   "source": [
    "# month\n",
    "online_new['DATETIME'].dt.month.value_counts().sort_index().plot.bar()"
   ]
  },
  {
   "cell_type": "code",
   "execution_count": 30,
   "metadata": {},
   "outputs": [
    {
     "data": {
      "text/plain": [
       "<matplotlib.axes._subplots.AxesSubplot at 0x2d6d59d25f8>"
      ]
     },
     "execution_count": 30,
     "metadata": {},
     "output_type": "execute_result"
    },
    {
     "data": {
      "image/png": "[encoded data removed]",
      "text/plain": [
       "<Figure size 432x288 with 1 Axes>"
      ]
     },
     "metadata": {},
     "output_type": "display_data"
    }
   ],
   "source": [
    "# weekday\n",
    "# 0:월, 1:화, 2:수, 3:목, 4:금, 5:토, 6:일\n",
    "online_new['DATETIME'].dt.weekday.value_counts().sort_index().plot.bar()"
   ]
  },
  {
   "cell_type": "code",
   "execution_count": 31,
   "metadata": {},
   "outputs": [
    {
     "data": {
      "text/plain": [
       "<matplotlib.axes._subplots.AxesSubplot at 0x2d6d979b208>"
      ]
     },
     "execution_count": 31,
     "metadata": {},
     "output_type": "execute_result"
    },
    {
     "data": {
      "image/png": "[encoded data removed]",
      "text/plain": [
       "<Figure size 432x288 with 1 Axes>"
      ]
     },
     "metadata": {},
     "output_type": "display_data"
    }
   ],
   "source": [
    "# time\n",
    "online_new['DATETIME'].dt.hour.value_counts().sort_index().plot.bar()"
   ]
  },
  {
   "cell_type": "markdown",
   "metadata": {},
   "source": [
    "* UPJONG_GB_1, MCT_NM"
   ]
  },
  {
   "cell_type": "code",
   "execution_count": 62,
   "metadata": {},
   "outputs": [
    {
     "data": {
      "text/plain": [
       "홈/인터넷쇼핑    2618\n",
       "미분류         271\n",
       "영화           72\n",
       "기타쇼핑         25\n",
       "전자제품          4\n",
       "Name: UPJONG_GB_1, dtype: int64"
      ]
     },
     "execution_count": 62,
     "metadata": {},
     "output_type": "execute_result"
    }
   ],
   "source": [
    "online_new['UPJONG_GB_1'].value_counts()"
   ]
  },
  {
   "cell_type": "code",
   "execution_count": 61,
   "metadata": {},
   "outputs": [],
   "source": [
    "## 뭐샀는지 알길이 없다...\n",
    "online_new['MCT'] = online_new[['MCT_N', \n",
    "                 'MCT_NM']].apply(lambda x : '{}_{}'.format(x.values[0], x.values[1]), axis=1)"
   ]
  },
  {
   "cell_type": "code",
   "execution_count": 63,
   "metadata": {},
   "outputs": [
    {
     "data": {
      "text/plain": [
       "8306000761KM_(주    1177\n",
       "4869800828KM_PA     440\n",
       "7808000429KM_이니     251\n",
       "8008600877KM_Ne     195\n",
       "0529901023KM_(주     170\n",
       "5109500009KM_인터     152\n",
       "0439100764KM_(주      81\n",
       "8632400443KM_CJ      72\n",
       "2341500784KM_벅스      60\n",
       "7690500748KM_NH      58\n",
       "5798400873KM_씨제      55\n",
       "0674201085KM_푹T      43\n",
       "7614300853KM_카카      40\n",
       "4975200782KM_LG      31\n",
       "6714000849KM_NH      30\n",
       "2557400134KM_kc      27\n",
       "7253801047KM_페이      24\n",
       "0563000409KM_kc      17\n",
       "3435100686KM_주식      15\n",
       "9931900773KM_주식      15\n",
       "5347500781KM_씨제      11\n",
       "0369701034KM_페이       8\n",
       "2071600426KM_KC       6\n",
       "6462000748KM_씨제       4\n",
       "1276301029KM_11       2\n",
       "3735000141KM_(P       2\n",
       "4452101094KM_KC       2\n",
       "0301901096KM_(주       1\n",
       "3797001089KM_충전       1\n",
       "Name: MCT, dtype: int64"
      ]
     },
     "execution_count": 63,
     "metadata": {},
     "output_type": "execute_result"
    }
   ],
   "source": [
    "online_new['MCT'].value_counts()"
   ]
  },
  {
   "cell_type": "code",
   "execution_count": 64,
   "metadata": {},
   "outputs": [
    {
     "data": {
      "text/plain": [
       "8632400443KM_CJ    72\n",
       "Name: MCT, dtype: int64"
      ]
     },
     "execution_count": 64,
     "metadata": {},
     "output_type": "execute_result"
    }
   ],
   "source": [
    "online_new['MCT'][online_new['UPJONG_GB_1'] == '영화'].value_counts()"
   ]
  },
  {
   "cell_type": "code",
   "execution_count": 65,
   "metadata": {},
   "outputs": [
    {
     "data": {
      "text/plain": [
       "8306000761KM_(주    1177\n",
       "4869800828KM_PA     440\n",
       "7808000429KM_이니     251\n",
       "8008600877KM_Ne     195\n",
       "5109500009KM_인터     152\n",
       "0439100764KM_(주      81\n",
       "2341500784KM_벅스      60\n",
       "7690500748KM_NH      58\n",
       "7614300853KM_카카      40\n",
       "4975200782KM_LG      31\n",
       "6714000849KM_NH      30\n",
       "2557400134KM_kc      27\n",
       "0563000409KM_kc      17\n",
       "9931900773KM_주식      15\n",
       "3435100686KM_주식      15\n",
       "5347500781KM_씨제      11\n",
       "0369701034KM_페이       8\n",
       "2071600426KM_KC       6\n",
       "3735000141KM_(P       2\n",
       "4452101094KM_KC       2\n",
       "Name: MCT, dtype: int64"
      ]
     },
     "execution_count": 65,
     "metadata": {},
     "output_type": "execute_result"
    }
   ],
   "source": [
    "online_new['MCT'][online_new['UPJONG_GB_1'] == '홈/인터넷쇼핑'].value_counts()"
   ]
  },
  {
   "cell_type": "code",
   "execution_count": 66,
   "metadata": {},
   "outputs": [
    {
     "data": {
      "text/plain": [
       "7253801047KM_페이    24\n",
       "0301901096KM_(주     1\n",
       "Name: MCT, dtype: int64"
      ]
     },
     "execution_count": 66,
     "metadata": {},
     "output_type": "execute_result"
    }
   ],
   "source": [
    "online_new['MCT'][online_new['UPJONG_GB_1'] == '기타쇼핑'].value_counts()"
   ]
  },
  {
   "cell_type": "code",
   "execution_count": 67,
   "metadata": {},
   "outputs": [
    {
     "data": {
      "text/plain": [
       "0529901023KM_(주    170\n",
       "5798400873KM_씨제     55\n",
       "0674201085KM_푹T     43\n",
       "1276301029KM_11      2\n",
       "3797001089KM_충전      1\n",
       "Name: MCT, dtype: int64"
      ]
     },
     "execution_count": 67,
     "metadata": {},
     "output_type": "execute_result"
    }
   ],
   "source": [
    "online_new['MCT'][online_new['UPJONG_GB_1'] == '미분류'].value_counts()"
   ]
  },
  {
   "cell_type": "code",
   "execution_count": 68,
   "metadata": {},
   "outputs": [
    {
     "data": {
      "text/plain": [
       "6462000748KM_씨제    4\n",
       "Name: MCT, dtype: int64"
      ]
     },
     "execution_count": 68,
     "metadata": {},
     "output_type": "execute_result"
    }
   ],
   "source": [
    "online_new['MCT'][online_new['UPJONG_GB_1'] == '전자제품'].value_counts()"
   ]
  },
  {
   "cell_type": "markdown",
   "metadata": {},
   "source": [
    "* AMT1"
   ]
  },
  {
   "cell_type": "code",
   "execution_count": 32,
   "metadata": {
    "scrolled": false
   },
   "outputs": [
    {
     "data": {
      "text/plain": [
       "<matplotlib.axes._subplots.AxesSubplot at 0x2d6cfff4f60>"
      ]
     },
     "execution_count": 32,
     "metadata": {},
     "output_type": "execute_result"
    },
    {
     "data": {
      "image/png": "[encoded data removed]",
      "text/plain": [
       "<Figure size 432x288 with 1 Axes>"
      ]
     },
     "metadata": {},
     "output_type": "display_data"
    }
   ],
   "source": [
    "online_new['AMT1'].value_counts().sort_index().plot.bar()"
   ]
  },
  {
   "cell_type": "markdown",
   "metadata": {},
   "source": [
    "10000원 이하 결제한 상품들은 어떤 것일까"
   ]
  },
  {
   "cell_type": "code",
   "execution_count": 79,
   "metadata": {},
   "outputs": [],
   "source": [
    "amt10000 = online_new[['MCT','UPJONG_GB_1']][online_new['AMT1'] == 10000]"
   ]
  },
  {
   "cell_type": "code",
   "execution_count": 69,
   "metadata": {},
   "outputs": [],
   "source": [
    "# 업종\n",
    "labels, ratio = np.unique(amt10000['UPJONG_GB_1'], return_counts = True)"
   ]
  },
  {
   "cell_type": "code",
   "execution_count": 70,
   "metadata": {},
   "outputs": [
    {
     "data": {
      "text/plain": [
       "array(['기타쇼핑', '미분류', '영화', '전자제품', '홈/인터넷쇼핑'], dtype=object)"
      ]
     },
     "execution_count": 70,
     "metadata": {},
     "output_type": "execute_result"
    }
   ],
   "source": [
    "labels"
   ]
  },
  {
   "cell_type": "code",
   "execution_count": 71,
   "metadata": {
    "scrolled": true
   },
   "outputs": [
    {
     "data": {
      "text/plain": [
       "array([ 19, 110,  69,   4, 981], dtype=int64)"
      ]
     },
     "execution_count": 71,
     "metadata": {},
     "output_type": "execute_result"
    }
   ],
   "source": [
    "ratio"
   ]
  },
  {
   "cell_type": "code",
   "execution_count": 73,
   "metadata": {
    "scrolled": false
   },
   "outputs": [
    {
     "data": {
      "text/plain": [
       "([<matplotlib.patches.Wedge at 0x2d6d60183c8>,\n",
       "  <matplotlib.patches.Wedge at 0x2d6d5ffdc18>,\n",
       "  <matplotlib.patches.Wedge at 0x2d6d5ffd400>,\n",
       "  <matplotlib.patches.Wedge at 0x2d6d50c2470>,\n",
       "  <matplotlib.patches.Wedge at 0x2d6d50c2c88>],\n",
       " [Text(-0.0554788,1.0986,'기타쇼핑'),\n",
       "  Text(-0.421289,1.01613,'미분류'),\n",
       "  Text(-0.839616,0.710665,'영화'),\n",
       "  Text(-0.960796,0.535603,'전자제품'),\n",
       "  Text(0.562182,-0.94549,'홈/인터넷쇼핑')])"
      ]
     },
     "execution_count": 73,
     "metadata": {},
     "output_type": "execute_result"
    },
    {
     "data": {
      "image/png": "[encoded data removed]",
      "text/plain": [
       "<Figure size 432x288 with 1 Axes>"
      ]
     },
     "metadata": {},
     "output_type": "display_data"
    }
   ],
   "source": [
    "plt.pie(ratio, labels=labels, shadow=True, startangle=90)"
   ]
  },
  {
   "cell_type": "code",
   "execution_count": 90,
   "metadata": {},
   "outputs": [],
   "source": [
    "# 상품명\n",
    "labels1, ratio1 = np.unique(amt10000['MCT'], return_counts = True)"
   ]
  },
  {
   "cell_type": "code",
   "execution_count": 91,
   "metadata": {},
   "outputs": [
    {
     "data": {
      "text/plain": [
       "array(['0369701034KM_페이', '0439100764KM_(주', '0529901023KM_(주',\n",
       "       '0563000409KM_kc', '0674201085KM_푹T', '1276301029KM_11',\n",
       "       '2341500784KM_벅스', '2557400134KM_kc', '3435100686KM_주식',\n",
       "       '4869800828KM_PA', '4975200782KM_LG', '5109500009KM_인터',\n",
       "       '5347500781KM_씨제', '5798400873KM_씨제', '6462000748KM_씨제',\n",
       "       '6714000849KM_NH', '7253801047KM_페이', '7614300853KM_카카',\n",
       "       '7690500748KM_NH', '7808000429KM_이니', '8306000761KM_(주',\n",
       "       '8632400443KM_CJ', '9931900773KM_주식'], dtype=object)"
      ]
     },
     "execution_count": 91,
     "metadata": {},
     "output_type": "execute_result"
    }
   ],
   "source": [
    "labels1"
   ]
  },
  {
   "cell_type": "code",
   "execution_count": 92,
   "metadata": {},
   "outputs": [
    {
     "data": {
      "text/plain": [
       "array([  1,  13,  39,  17,  33,   1,  60,   3,   3, 132,   5,  23,   2,\n",
       "        37,   4,  30,  19,   2,  42, 177, 470,  69,   1], dtype=int64)"
      ]
     },
     "execution_count": 92,
     "metadata": {},
     "output_type": "execute_result"
    }
   ],
   "source": [
    "ratio1"
   ]
  },
  {
   "cell_type": "code",
   "execution_count": 83,
   "metadata": {
    "scrolled": false
   },
   "outputs": [
    {
     "data": {
      "text/plain": [
       "([<matplotlib.patches.Wedge at 0x2d6d5929470>,\n",
       "  <matplotlib.patches.Wedge at 0x2d6d587bcc0>,\n",
       "  <matplotlib.patches.Wedge at 0x2d6d587b4a8>,\n",
       "  <matplotlib.patches.Wedge at 0x2d6d585d358>,\n",
       "  <matplotlib.patches.Wedge at 0x2d6d585dba8>,\n",
       "  <matplotlib.patches.Wedge at 0x2d6d5791be0>,\n",
       "  <matplotlib.patches.Wedge at 0x2d6d57913c8>,\n",
       "  <matplotlib.patches.Wedge at 0x2d6d5a6c8d0>,\n",
       "  <matplotlib.patches.Wedge at 0x2d6d458b390>,\n",
       "  <matplotlib.patches.Wedge at 0x2d6d4ba6b38>,\n",
       "  <matplotlib.patches.Wedge at 0x2d6d4ba6358>,\n",
       "  <matplotlib.patches.Wedge at 0x2d6d4b7e080>,\n",
       "  <matplotlib.patches.Wedge at 0x2d6d4b7e438>,\n",
       "  <matplotlib.patches.Wedge at 0x2d6d400a550>,\n",
       "  <matplotlib.patches.Wedge at 0x2d6d400ad68>,\n",
       "  <matplotlib.patches.Wedge at 0x2d6d3897a20>,\n",
       "  <matplotlib.patches.Wedge at 0x2d6d3897208>,\n",
       "  <matplotlib.patches.Wedge at 0x2d6d37209b0>,\n",
       "  <matplotlib.patches.Wedge at 0x2d6d3720198>,\n",
       "  <matplotlib.patches.Wedge at 0x2d6d370e6d8>,\n",
       "  <matplotlib.patches.Wedge at 0x2d6d370eef0>,\n",
       "  <matplotlib.patches.Wedge at 0x2d6d1cef8d0>,\n",
       "  <matplotlib.patches.Wedge at 0x2d6d1cef0b8>],\n",
       " [Text(-0.00292117,1.1,'0369701034KM_페이'),\n",
       "  Text(-0.0438061,1.09913,'0439100764KM_(주'),\n",
       "  Text(-0.194688,1.08263,'0529901023KM_(주'),\n",
       "  Text(-0.352949,1.04184,'0563000409KM_kc'),\n",
       "  Text(-0.487773,0.98594,'0674201085KM_푹T'),\n",
       "  Text(-0.574686,0.937942,'1276301029KM_11'),\n",
       "  Text(-0.718438,0.832974,'2341500784KM_벅스'),\n",
       "  Text(-0.847118,0.701706,'2557400134KM_kc'),\n",
       "  Text(-0.85819,0.68812,'3435100686KM_주식'),\n",
       "  Text(-1.04507,0.343251,'4869800828KM_PA'),\n",
       "  Text(-1.09881,-0.0511022,'4975200782KM_LG'),\n",
       "  Text(-1.09198,-0.13259,'5109500009KM_인터'),\n",
       "  Text(-1.08078,-0.204742,'5347500781KM_씨제'),\n",
       "  Text(-1.05382,-0.31538,'5798400873KM_씨제'),\n",
       "  Text(-1.01331,-0.428026,'6462000748KM_씨제'),\n",
       "  Text(-0.970586,-0.517651,'6714000849KM_NH'),\n",
       "  Text(-0.895211,-0.639216,'7253801047KM_페이'),\n",
       "  Text(-0.85819,-0.68812,'7614300853KM_카카'),\n",
       "  Text(-0.772116,-0.783477,'7690500748KM_NH'),\n",
       "  Text(-0.214778,-1.07883,'7808000429KM_이니'),\n",
       "  Text(1.09867,-0.0540201,'8306000761KM_(주'),\n",
       "  Text(0.206177,1.08051,'8632400443KM_CJ'),\n",
       "  Text(0.00292124,1.1,'9931900773KM_주식')])"
      ]
     },
     "execution_count": 83,
     "metadata": {},
     "output_type": "execute_result"
    },
    {
     "data": {
      "image/png": "[encoded data removed]",
      "text/plain": [
       "<Figure size 432x288 with 1 Axes>"
      ]
     },
     "metadata": {},
     "output_type": "display_data"
    }
   ],
   "source": [
    "plt.pie(ratio1, labels=labels1, shadow=True, startangle=90)"
   ]
  }
 ],
 "metadata": {
  "kernelspec": {
   "display_name": "Python 3",
   "language": "python",
   "name": "python3"
  },
  "language_info": {
   "codemirror_mode": {
    "name": "ipython",
    "version": 3
   },
   "file_extension": ".py",
   "mimetype": "text/x-python",
   "name": "python",
   "nbconvert_exporter": "python",
   "pygments_lexer": "ipython3",
   "version": "3.6.5"
  }
 },
 "nbformat": 4,
 "nbformat_minor": 2
}
